{
 "cells": [
  {
   "cell_type": "markdown",
   "metadata": {},
   "source": [
    "### Today Concepts\n",
    "- Dictionary\n",
    "- File Handling\n",
    "- Modules and Packages"
   ]
  },
  {
   "cell_type": "markdown",
   "metadata": {},
   "source": [
    "#### Dictionary\n",
    "- word and its meaning\n",
    "- pair data structure\n",
    "- containing keys and values\n",
    "- key is the reference to the value like index\n",
    "- entire dictionary is based on keys only\n",
    "- key can be any data type (int,float,str)\n",
    "- values can be any data structure(tuple,list,dict)\n",
    "- represented by {key:value}\n",
    "- key&val together called as an item\n",
    "- application :google search\n",
    "- dict() is the pre defined function"
   ]
  },
  {
   "cell_type": "code",
   "execution_count": 1,
   "metadata": {
    "collapsed": true
   },
   "outputs": [
    {
     "name": "stdout",
     "output_type": "stream",
     "text": [
      "{12: 'twelve', 'name': 'ruthu', 90.45: (1, 2, 3, 4), 'list': [90, 56, 34, 'hi']}\n"
     ]
    }
   ],
   "source": [
    "dic={12:\"twelve\",\"name\":\"ruthu\",90.45:(1,2,3,4),\n",
    "     \"list\":[90,56,34,\"hi\"]}\n",
    "print(dic)"
   ]
  },
  {
   "cell_type": "code",
   "execution_count": 2,
   "metadata": {
    "collapsed": true
   },
   "outputs": [
    {
     "data": {
      "text/plain": [
       "'twelve'"
      ]
     },
     "execution_count": 2,
     "metadata": {},
     "output_type": "execute_result"
    }
   ],
   "source": [
    "dic[12] # it[index]"
   ]
  },
  {
   "cell_type": "code",
   "execution_count": 3,
   "metadata": {
    "collapsed": true
   },
   "outputs": [
    {
     "data": {
      "text/plain": [
       "[90, 56, 34, 'hi']"
      ]
     },
     "execution_count": 3,
     "metadata": {},
     "output_type": "execute_result"
    }
   ],
   "source": [
    "dic['list']"
   ]
  },
  {
   "cell_type": "code",
   "execution_count": 4,
   "metadata": {
    "collapsed": true
   },
   "outputs": [
    {
     "data": {
      "text/plain": [
       "(1, 2, 3, 4)"
      ]
     },
     "execution_count": 4,
     "metadata": {},
     "output_type": "execute_result"
    }
   ],
   "source": [
    "dic[90.45]"
   ]
  },
  {
   "cell_type": "code",
   "execution_count": 5,
   "metadata": {
    "collapsed": true
   },
   "outputs": [
    {
     "name": "stdout",
     "output_type": "stream",
     "text": [
      "12\n",
      "name\n",
      "90.45\n",
      "list\n"
     ]
    }
   ],
   "source": [
    "for item in dic: # iterating dict\n",
    "    print(item) # keys"
   ]
  },
  {
   "cell_type": "code",
   "execution_count": 6,
   "metadata": {
    "collapsed": true
   },
   "outputs": [
    {
     "name": "stdout",
     "output_type": "stream",
     "text": [
      "twelve\n",
      "ruthu\n",
      "(1, 2, 3, 4)\n",
      "[90, 56, 34, 'hi']\n"
     ]
    }
   ],
   "source": [
    "for key in dic:\n",
    "    print(dic[key]) # values"
   ]
  },
  {
   "cell_type": "markdown",
   "metadata": {},
   "source": [
    "#### Dict methods\n",
    "- dict.keys()\n",
    "- dict.values()\n",
    "- dict.items()\n",
    "- dict.get(key)\n",
    "- dict.popitem()\n",
    "- dict[new]=value\n",
    "- dict[old key]=value\n",
    "- dict.update(dic)"
   ]
  },
  {
   "cell_type": "code",
   "execution_count": 8,
   "metadata": {
    "collapsed": true
   },
   "outputs": [
    {
     "data": {
      "text/plain": [
       "['__class__',\n",
       " '__contains__',\n",
       " '__delattr__',\n",
       " '__delitem__',\n",
       " '__dir__',\n",
       " '__doc__',\n",
       " '__eq__',\n",
       " '__format__',\n",
       " '__ge__',\n",
       " '__getattribute__',\n",
       " '__getitem__',\n",
       " '__gt__',\n",
       " '__hash__',\n",
       " '__init__',\n",
       " '__init_subclass__',\n",
       " '__iter__',\n",
       " '__le__',\n",
       " '__len__',\n",
       " '__lt__',\n",
       " '__ne__',\n",
       " '__new__',\n",
       " '__reduce__',\n",
       " '__reduce_ex__',\n",
       " '__repr__',\n",
       " '__setattr__',\n",
       " '__setitem__',\n",
       " '__sizeof__',\n",
       " '__str__',\n",
       " '__subclasshook__',\n",
       " 'clear',\n",
       " 'copy',\n",
       " 'fromkeys',\n",
       " 'get',\n",
       " 'items',\n",
       " 'keys',\n",
       " 'pop',\n",
       " 'popitem',\n",
       " 'setdefault',\n",
       " 'update',\n",
       " 'values']"
      ]
     },
     "execution_count": 8,
     "metadata": {},
     "output_type": "execute_result"
    }
   ],
   "source": [
    "dir(dict)"
   ]
  },
  {
   "cell_type": "code",
   "execution_count": 9,
   "metadata": {},
   "outputs": [
    {
     "data": {
      "text/plain": [
       "{12: 'twelve',\n",
       " 'name': 'ruthu',\n",
       " 90.45: (1, 2, 3, 4),\n",
       " 'list': [90, 56, 34, 'hi']}"
      ]
     },
     "execution_count": 9,
     "metadata": {},
     "output_type": "execute_result"
    }
   ],
   "source": [
    "dic"
   ]
  },
  {
   "cell_type": "code",
   "execution_count": 10,
   "metadata": {},
   "outputs": [],
   "source": [
    "# adding new item to the existed dict\n",
    "dic['clg']=\"RVR&JC\""
   ]
  },
  {
   "cell_type": "code",
   "execution_count": 11,
   "metadata": {
    "collapsed": true
   },
   "outputs": [
    {
     "data": {
      "text/plain": [
       "{12: 'twelve',\n",
       " 'name': 'ruthu',\n",
       " 90.45: (1, 2, 3, 4),\n",
       " 'list': [90, 56, 34, 'hi'],\n",
       " 'clg': 'RVR&JC'}"
      ]
     },
     "execution_count": 11,
     "metadata": {},
     "output_type": "execute_result"
    }
   ],
   "source": [
    "dic"
   ]
  },
  {
   "cell_type": "code",
   "execution_count": 13,
   "metadata": {},
   "outputs": [],
   "source": [
    "dic['name']=\"vanitha\" # key updation"
   ]
  },
  {
   "cell_type": "code",
   "execution_count": 14,
   "metadata": {
    "collapsed": true
   },
   "outputs": [
    {
     "data": {
      "text/plain": [
       "{12: 'twelve',\n",
       " 'name': 'vanitha',\n",
       " 90.45: (1, 2, 3, 4),\n",
       " 'list': [90, 56, 34, 'hi'],\n",
       " 'clg': 'RVR&JC'}"
      ]
     },
     "execution_count": 14,
     "metadata": {},
     "output_type": "execute_result"
    }
   ],
   "source": [
    "dic"
   ]
  },
  {
   "cell_type": "code",
   "execution_count": 16,
   "metadata": {
    "collapsed": true
   },
   "outputs": [
    {
     "data": {
      "text/plain": [
       "'twelve'"
      ]
     },
     "execution_count": 16,
     "metadata": {},
     "output_type": "execute_result"
    }
   ],
   "source": [
    "dic.get(12) # getting the corresponding value"
   ]
  },
  {
   "cell_type": "code",
   "execution_count": 18,
   "metadata": {
    "collapsed": true
   },
   "outputs": [
    {
     "data": {
      "text/plain": [
       "('list', [90, 56, 34, 'hi'])"
      ]
     },
     "execution_count": 18,
     "metadata": {},
     "output_type": "execute_result"
    }
   ],
   "source": [
    "dic.popitem() # last item"
   ]
  },
  {
   "cell_type": "code",
   "execution_count": 19,
   "metadata": {
    "collapsed": true
   },
   "outputs": [
    {
     "data": {
      "text/plain": [
       "{12: 'twelve', 'name': 'vanitha', 90.45: (1, 2, 3, 4)}"
      ]
     },
     "execution_count": 19,
     "metadata": {},
     "output_type": "execute_result"
    }
   ],
   "source": [
    "dic"
   ]
  },
  {
   "cell_type": "code",
   "execution_count": 21,
   "metadata": {
    "collapsed": true
   },
   "outputs": [
    {
     "data": {
      "text/plain": [
       "(1, 2, 3, 4)"
      ]
     },
     "execution_count": 21,
     "metadata": {},
     "output_type": "execute_result"
    }
   ],
   "source": [
    "dic.pop(90.45) # corresponding key will be removed "
   ]
  },
  {
   "cell_type": "code",
   "execution_count": 22,
   "metadata": {
    "collapsed": true
   },
   "outputs": [
    {
     "data": {
      "text/plain": [
       "{12: 'twelve', 'name': 'vanitha'}"
      ]
     },
     "execution_count": 22,
     "metadata": {},
     "output_type": "execute_result"
    }
   ],
   "source": [
    "dic"
   ]
  },
  {
   "cell_type": "code",
   "execution_count": 23,
   "metadata": {},
   "outputs": [],
   "source": [
    "new={1:'one',2.0:\"two\",'st':\"dictionary\"}"
   ]
  },
  {
   "cell_type": "code",
   "execution_count": 24,
   "metadata": {},
   "outputs": [],
   "source": [
    "dic.update(new)"
   ]
  },
  {
   "cell_type": "code",
   "execution_count": 25,
   "metadata": {
    "collapsed": true
   },
   "outputs": [
    {
     "data": {
      "text/plain": [
       "{12: 'twelve', 'name': 'vanitha', 1: 'one', 2.0: 'two', 'st': 'dictionary'}"
      ]
     },
     "execution_count": 25,
     "metadata": {},
     "output_type": "execute_result"
    }
   ],
   "source": [
    "dic"
   ]
  },
  {
   "cell_type": "code",
   "execution_count": 26,
   "metadata": {},
   "outputs": [],
   "source": [
    "dic.update({'hi':'hello'})"
   ]
  },
  {
   "cell_type": "code",
   "execution_count": 27,
   "metadata": {
    "collapsed": true
   },
   "outputs": [
    {
     "data": {
      "text/plain": [
       "{12: 'twelve',\n",
       " 'name': 'vanitha',\n",
       " 1: 'one',\n",
       " 2.0: 'two',\n",
       " 'st': 'dictionary',\n",
       " 'hi': 'hello'}"
      ]
     },
     "execution_count": 27,
     "metadata": {},
     "output_type": "execute_result"
    }
   ],
   "source": [
    "dic"
   ]
  },
  {
   "cell_type": "code",
   "execution_count": 2,
   "metadata": {
    "collapsed": true
   },
   "outputs": [
    {
     "name": "stdout",
     "output_type": "stream",
     "text": [
      "Items available....\n",
      "\n",
      "Idly = Rs 25 /-\n",
      "Dosa = Rs 30 /-\n",
      "Chapati = Rs 30 /-\n",
      "Meals = Rs 70 /-\n",
      "Biryani = Rs 150 /-\n",
      "Fried Rice = Rs 120 /-\n",
      "Coffee = Rs 20 /-\n",
      "Cool Drink = Rs 50 /-\n",
      "Water = Rs 20 /-\n",
      "\n",
      "Place your order:Dosa,meals,Cool Drink, Water\n",
      "Sorry..! meals not available\n",
      "Sorry..!  Water not available\n",
      "Your bill= 80\n"
     ]
    }
   ],
   "source": [
    "# build a menu card application \n",
    "# show the customer :\n",
    "# menu of items,price\n",
    "# will order the item,\n",
    "# you have to show the entire bill\n",
    "items={'Idly':25,\"Dosa\":30,'Chapati':30,'Meals':70,\n",
    "       \"Biryani\":150,'Fried Rice':120,'Coffee':20,\n",
    "      'Cool Drink':50,'Water':20}\n",
    "\n",
    "print(\"Items available....\\n\")\n",
    "for item in items:\n",
    "    print(item,\"= Rs\",items[item],\"/-\")\n",
    "print()\n",
    "order=input(\"Place your order:\").split(\",\")\n",
    "bill=0\n",
    "for item in order:\n",
    "    if item in items:\n",
    "        bill+=items[item]\n",
    "    else:\n",
    "        print(\"Sorry..!\",item,\"not available\")\n",
    "print(\"Your bill=\",bill)"
   ]
  },
  {
   "cell_type": "code",
   "execution_count": 3,
   "metadata": {},
   "outputs": [],
   "source": [
    "# build the contact application\n",
    "# adding new cantact()\n",
    "# delete contact()\n",
    "# edit contact()\n",
    "# display contacts()"
   ]
  },
  {
   "cell_type": "code",
   "execution_count": 1,
   "metadata": {},
   "outputs": [],
   "source": [
    "contacts={} # empty\n",
    "def display_contacts():\n",
    "    print(\"Here is your contact:\")\n",
    "    for (name,mbl) in contacts.items():\n",
    "          print(name,mbl,sep=\":\")\n",
    "#print(contacts)\n",
    "def add_contact(name,mbl):\n",
    "    if name not in contacts:\n",
    "        contacts[name]=mbl\n",
    "        print(\"contact added..!\")\n",
    "    else:\n",
    "        print(name,\"already exist\")\n",
    "#add_contact(input(\"Name:\"),int(input(\"Mobile Num:\")))\n",
    "def edit_contact(name): # new mbl\n",
    "    if name in contacts:\n",
    "        new=int(input(\"New mbl number:\"))\n",
    "        contacts[name]=new\n",
    "        print(\"contact updated..!\")\n",
    "    else:\n",
    "        print(name,\"doesn't exist\")\n",
    "#edit_contact        \n",
    "def search_contact(name):\n",
    "    if name in contacts:\n",
    "        print(\"Your contact\",end=\":\")\n",
    "        print(name,contacts[name])\n",
    "    else:\n",
    "        print(name,\"doesn't exist\")\n",
    "        \n",
    "# search_contact()\n",
    "def delete_contact(name):\n",
    "    if name not in contacts:\n",
    "        print(name,\"doesn't exist\")\n",
    "    else:\n",
    "        print(contacts.pop(name))"
   ]
  },
  {
   "cell_type": "code",
   "execution_count": 2,
   "metadata": {},
   "outputs": [
    {
     "data": {
      "text/plain": [
       "{}"
      ]
     },
     "execution_count": 2,
     "metadata": {},
     "output_type": "execute_result"
    }
   ],
   "source": [
    "contacts"
   ]
  },
  {
   "cell_type": "code",
   "execution_count": 37,
   "metadata": {},
   "outputs": [
    {
     "data": {
      "text/plain": [
       "{}"
      ]
     },
     "execution_count": 37,
     "metadata": {},
     "output_type": "execute_result"
    }
   ],
   "source": [
    "contacts"
   ]
  },
  {
   "cell_type": "code",
   "execution_count": 3,
   "metadata": {
    "collapsed": true
   },
   "outputs": [
    {
     "name": "stdout",
     "output_type": "stream",
     "text": [
      "Name:Ruthu\n",
      "Mobile Num:9870654321\n",
      "contact added..!\n"
     ]
    }
   ],
   "source": [
    "add_contact(input(\"Name:\"),int(input(\"Mobile Num:\")))"
   ]
  },
  {
   "cell_type": "code",
   "execution_count": 4,
   "metadata": {
    "collapsed": true
   },
   "outputs": [
    {
     "name": "stdout",
     "output_type": "stream",
     "text": [
      "Name:second\n",
      "Mobile Num:8907654321\n",
      "contact added..!\n"
     ]
    }
   ],
   "source": [
    "add_contact(input(\"Name:\"),int(input(\"Mobile Num:\")))"
   ]
  },
  {
   "cell_type": "code",
   "execution_count": 5,
   "metadata": {
    "collapsed": true
   },
   "outputs": [
    {
     "name": "stdout",
     "output_type": "stream",
     "text": [
      "Name:third\n",
      "Mobile Num:6789054321\n",
      "contact added..!\n"
     ]
    }
   ],
   "source": [
    "add_contact(input(\"Name:\"),int(input(\"Mobile Num:\")))"
   ]
  },
  {
   "cell_type": "code",
   "execution_count": 14,
   "metadata": {
    "collapsed": true
   },
   "outputs": [
    {
     "name": "stdout",
     "output_type": "stream",
     "text": [
      "Here is your contact:\n",
      "Ruthu:9870654321\n",
      "second:8907654321\n",
      "third:9087654321\n",
      "fourth:7658493021\n"
     ]
    }
   ],
   "source": [
    "display_contacts()"
   ]
  },
  {
   "cell_type": "code",
   "execution_count": 6,
   "metadata": {
    "collapsed": true
   },
   "outputs": [
    {
     "name": "stdout",
     "output_type": "stream",
     "text": [
      "Name:fourth\n",
      "Mobile Num:7658493021\n",
      "contact added..!\n"
     ]
    }
   ],
   "source": [
    "add_contact(input(\"Name:\"),int(input(\"Mobile Num:\")))"
   ]
  },
  {
   "cell_type": "code",
   "execution_count": 33,
   "metadata": {
    "collapsed": true
   },
   "outputs": [
    {
     "name": "stdout",
     "output_type": "stream",
     "text": [
      "Ruthu:9087654321\n",
      "vanitha:9087654123\n",
      "nandini:1234567890\n",
      "reshu:9087651234\n"
     ]
    }
   ],
   "source": [
    "for key,val in contacts.items():\n",
    "    print(key,val,sep=\":\")"
   ]
  },
  {
   "cell_type": "code",
   "execution_count": 13,
   "metadata": {},
   "outputs": [
    {
     "name": "stdout",
     "output_type": "stream",
     "text": [
      "New mbl number:9087654321\n",
      "contact updated..!\n"
     ]
    }
   ],
   "source": [
    "edit_contact(\"third\")"
   ]
  },
  {
   "cell_type": "code",
   "execution_count": 7,
   "metadata": {
    "collapsed": true
   },
   "outputs": [
    {
     "name": "stdout",
     "output_type": "stream",
     "text": [
      "Here is your contact:\n",
      "Ruthu:9870654321\n",
      "second:8907654321\n",
      "third:6789054321\n",
      "fourth:7658493021\n"
     ]
    }
   ],
   "source": [
    "display_contacts()"
   ]
  },
  {
   "cell_type": "code",
   "execution_count": 11,
   "metadata": {},
   "outputs": [
    {
     "name": "stdout",
     "output_type": "stream",
     "text": [
      "Your contact:Ruthu 9870654321\n"
     ]
    }
   ],
   "source": [
    "search_contact(\"Ruthu\")"
   ]
  },
  {
   "cell_type": "code",
   "execution_count": 15,
   "metadata": {},
   "outputs": [
    {
     "name": "stdout",
     "output_type": "stream",
     "text": [
      "8907654321\n"
     ]
    }
   ],
   "source": [
    "delete_contact(\"second\")"
   ]
  },
  {
   "cell_type": "code",
   "execution_count": 16,
   "metadata": {
    "collapsed": true
   },
   "outputs": [
    {
     "name": "stdout",
     "output_type": "stream",
     "text": [
      "Here is your contact:\n",
      "Ruthu:9870654321\n",
      "third:9087654321\n",
      "fourth:7658493021\n"
     ]
    }
   ],
   "source": [
    "display_contacts()"
   ]
  },
  {
   "cell_type": "markdown",
   "metadata": {},
   "source": [
    "### Files \n",
    "- anything that contains information\n",
    "- types of files\n",
    "    - .txt,.c,.py,.mp3,.mp4,.exe etc...\n",
    "- **file operations**\n",
    "    - open()\n",
    "        - *syntax*\n",
    "            - open(filename,mode)\n",
    "            - with open(filename,mode) as var:\n",
    "        - mode can be read(r),write(w),append(a)\n",
    "    - read()\n",
    "        - which reads the content in the file\n",
    "        - textual file will be converted into str format\n",
    "    - write()\n",
    "        - writes the content into the file but\n",
    "        - this op'n will overwrite the existed content\n",
    "    - append()\n",
    "        - adds new content into the file\n",
    "        - opens at \"a\" but using write() we add the data/content into the file\n",
    "    - close()\n",
    "        - closing the file"
   ]
  },
  {
   "cell_type": "code",
   "execution_count": 29,
   "metadata": {},
   "outputs": [
    {
     "name": "stdout",
     "output_type": "stream",
     "text": [
      "@I am new to python and working on files.\n",
      "Kindly help me to work on it !\n",
      "#Cooperate with the trainers.\n",
      "\n"
     ]
    }
   ],
   "source": [
    "file=open(\"first.txt\",\"r\")\n",
    "file=file.read() # read op'n\n",
    "print(file)"
   ]
  },
  {
   "cell_type": "code",
   "execution_count": 18,
   "metadata": {
    "collapsed": true
   },
   "outputs": [
    {
     "data": {
      "text/plain": [
       "'@I am new to python and working on files.\\nKindly help me to work on it !\\n#Cooperate with the trainers.\\n'"
      ]
     },
     "execution_count": 18,
     "metadata": {},
     "output_type": "execute_result"
    }
   ],
   "source": [
    "file"
   ]
  },
  {
   "cell_type": "code",
   "execution_count": 19,
   "metadata": {
    "collapsed": true
   },
   "outputs": [
    {
     "name": "stdout",
     "output_type": "stream",
     "text": [
      "@I am new to python and working on files.\n",
      "Kindly help me to work on it !\n",
      "#Cooperate with the trainers.\n",
      "\n"
     ]
    }
   ],
   "source": [
    "with open(\"first.txt\",'r') as f:\n",
    "    f=f.read()\n",
    "    print(f)"
   ]
  },
  {
   "cell_type": "code",
   "execution_count": 21,
   "metadata": {},
   "outputs": [
    {
     "data": {
      "text/plain": [
       "str"
      ]
     },
     "execution_count": 21,
     "metadata": {},
     "output_type": "execute_result"
    }
   ],
   "source": [
    "type(f)"
   ]
  },
  {
   "cell_type": "code",
   "execution_count": 25,
   "metadata": {},
   "outputs": [],
   "source": [
    "data=open(\"first.txt\",\"r\")\n",
    "data=data.readlines() # list of lines"
   ]
  },
  {
   "cell_type": "code",
   "execution_count": 27,
   "metadata": {
    "collapsed": true
   },
   "outputs": [
    {
     "name": "stdout",
     "output_type": "stream",
     "text": [
      "['@I am new to python and working on files.\\n', 'Kindly help me to work on it !\\n', '#Cooperate with the trainers.\\n']\n"
     ]
    }
   ],
   "source": [
    "print(data)"
   ]
  },
  {
   "cell_type": "code",
   "execution_count": 30,
   "metadata": {},
   "outputs": [
    {
     "data": {
      "text/plain": [
       "list"
      ]
     },
     "execution_count": 30,
     "metadata": {},
     "output_type": "execute_result"
    }
   ],
   "source": [
    "type(data)"
   ]
  },
  {
   "cell_type": "code",
   "execution_count": 32,
   "metadata": {},
   "outputs": [
    {
     "name": "stdout",
     "output_type": "stream",
     "text": [
      "Ruthu : 9870654321\n",
      "third : 9087654321\n",
      "fourth : 7658493021\n"
     ]
    }
   ],
   "source": [
    "for name,mbl in contacts.items():\n",
    "    print(name,\":\",mbl)"
   ]
  },
  {
   "cell_type": "code",
   "execution_count": 37,
   "metadata": {},
   "outputs": [],
   "source": [
    "li=[contacts.items()]"
   ]
  },
  {
   "cell_type": "code",
   "execution_count": 40,
   "metadata": {},
   "outputs": [
    {
     "name": "stdout",
     "output_type": "stream",
     "text": [
      "dict_items([('Ruthu', 9870654321), ('third', 9087654321), ('fourth', 7658493021)])\n"
     ]
    }
   ],
   "source": [
    "for item in li:\n",
    "    print(item)"
   ]
  },
  {
   "cell_type": "code",
   "execution_count": 41,
   "metadata": {
    "collapsed": true
   },
   "outputs": [
    {
     "name": "stdout",
     "output_type": "stream",
     "text": [
      "contacts={} # empty\n",
      "def display_contacts():\n",
      "    print(\"Here is your contacts:\")\n",
      "    for (name,mbl) in contacts.items():\n",
      "          print(name,mbl,sep=\":\")\n",
      "#print(contacts)\n",
      "def add_contact(name,mbl):\n",
      "    if name not in contacts:\n",
      "        contacts[name]=mbl\n",
      "        print(\"contact added..!\")\n",
      "    else:\n",
      "        print(name,\"already exist\")\n",
      "#add_contact(input(\"Name:\"),int(input(\"Mobile Num:\")))\n",
      "def edit_contact(name): # new mbl\n",
      "    if name in contacts:\n",
      "        new=int(input(\"New mbl number:\"))\n",
      "        contacts[name]=new\n",
      "        print(\"contact updated..!\")\n",
      "    else:\n",
      "        print(name,\"doesn't exist\")\n",
      "#edit_contact        \n",
      "def search_contact(name):\n",
      "    if name in contacts:\n",
      "        print(\"Your contact\\n\")\n",
      "        print(name,contacts[name],sep=\":\")\n",
      "    else:\n",
      "        print(name,\"doesn't exist\")\n",
      "        \n",
      "# search_contact()\n",
      "def delete_contact(name):\n",
      "    if name not in contacts:\n",
      "        print(name,\"doesn't exist\")\n",
      "    else:\n",
      "        print(contacts.pop(name))\n"
     ]
    }
   ],
   "source": [
    "with open(\"contacts.py\",'r') as py:\n",
    "    print(py.read())"
   ]
  },
  {
   "cell_type": "markdown",
   "metadata": {},
   "source": [
    "#### write()\n",
    "- we can create the new file using write()"
   ]
  },
  {
   "cell_type": "code",
   "execution_count": 42,
   "metadata": {},
   "outputs": [],
   "source": [
    "new=open(\"new.py\",'w')\n",
    "new.close()"
   ]
  },
  {
   "cell_type": "code",
   "execution_count": 43,
   "metadata": {},
   "outputs": [
    {
     "name": "stdout",
     "output_type": "stream",
     "text": [
      "print(\"Data Analysis workshop conducted by APSSDC\")\n"
     ]
    }
   ],
   "source": [
    "pr=open(\"new.py\",'r')\n",
    "print(pr.read())"
   ]
  },
  {
   "cell_type": "code",
   "execution_count": 44,
   "metadata": {},
   "outputs": [],
   "source": [
    "pr=open(\"new.py\",'w')\n",
    "# write op'n\n",
    "pr.write(\"Adding text using write()\")\n",
    "pr.close()"
   ]
  },
  {
   "cell_type": "markdown",
   "metadata": {},
   "source": [
    "#### append()\n",
    "- adds the new content"
   ]
  },
  {
   "cell_type": "code",
   "execution_count": 53,
   "metadata": {},
   "outputs": [],
   "source": [
    "ap=open('new.py','a')\n",
    "ap.write(\"print('Adding content using append()')\\nprint('hi')\")\n",
    "ap.close()"
   ]
  },
  {
   "cell_type": "code",
   "execution_count": 51,
   "metadata": {},
   "outputs": [
    {
     "data": {
      "text/plain": [
       "{'Ruthu': 9870654321, 'third': 9087654321, 'fourth': 7658493021}"
      ]
     },
     "execution_count": 51,
     "metadata": {},
     "output_type": "execute_result"
    }
   ],
   "source": [
    "contacts"
   ]
  },
  {
   "cell_type": "code",
   "execution_count": 54,
   "metadata": {
    "collapsed": true
   },
   "outputs": [
    {
     "ename": "TypeError",
     "evalue": "write() argument must be str, not dict",
     "output_type": "error",
     "traceback": [
      "\u001b[1;31m---------------------------------------------------------------------------\u001b[0m",
      "\u001b[1;31mTypeError\u001b[0m                                 Traceback (most recent call last)",
      "\u001b[1;32m<ipython-input-54-8873f529f94c>\u001b[0m in \u001b[0;36m<module>\u001b[1;34m()\u001b[0m\n\u001b[0;32m      1\u001b[0m \u001b[1;32mwith\u001b[0m \u001b[0mopen\u001b[0m\u001b[1;33m(\u001b[0m\u001b[1;34m\"new.py\"\u001b[0m\u001b[1;33m,\u001b[0m\u001b[1;34m'a'\u001b[0m\u001b[1;33m)\u001b[0m \u001b[1;32mas\u001b[0m \u001b[0mcon\u001b[0m\u001b[1;33m:\u001b[0m\u001b[1;33m\u001b[0m\u001b[0m\n\u001b[1;32m----> 2\u001b[1;33m     \u001b[0mcon\u001b[0m\u001b[1;33m.\u001b[0m\u001b[0mwrite\u001b[0m\u001b[1;33m(\u001b[0m\u001b[0mcontacts\u001b[0m\u001b[1;33m)\u001b[0m\u001b[1;33m\u001b[0m\u001b[0m\n\u001b[0m\u001b[0;32m      3\u001b[0m     \u001b[0mcon\u001b[0m\u001b[1;33m.\u001b[0m\u001b[0mclose\u001b[0m\u001b[1;33m(\u001b[0m\u001b[1;33m)\u001b[0m\u001b[1;33m\u001b[0m\u001b[0m\n",
      "\u001b[1;31mTypeError\u001b[0m: write() argument must be str, not dict"
     ]
    }
   ],
   "source": [
    "with open(\"new.py\",'a') as con:\n",
    "    con.write(contacts) # shole be string\n",
    "    con.close()"
   ]
  },
  {
   "cell_type": "code",
   "execution_count": 55,
   "metadata": {},
   "outputs": [],
   "source": [
    "# read python file and find the \n",
    "# frequency of lines,words,alphabets and specials"
   ]
  },
  {
   "cell_type": "code",
   "execution_count": 59,
   "metadata": {
    "collapsed": true
   },
   "outputs": [
    {
     "name": "stdout",
     "output_type": "stream",
     "text": [
      "contacts={} # empty\n",
      "def display_contacts():\n",
      "    print(\"Here is your contacts:\")\n",
      "    for (name,mbl) in contacts.items():\n",
      "          print(name,mbl,sep=\":\")\n",
      "#print(contacts)\n",
      "def add_contact(name,mbl):\n",
      "    if name not in contacts:\n",
      "        contacts[name]=mbl\n",
      "        print(\"contact added..!\")\n",
      "    else:\n",
      "        print(name,\"already exist\")\n",
      "#add_contact(input(\"Name:\"),int(input(\"Mobile Num:\")))\n",
      "def edit_contact(name): # new mbl\n",
      "    if name in contacts:\n",
      "        new=int(input(\"New mbl number:\"))\n",
      "        contacts[name]=new\n",
      "        print(\"contact updated..!\")\n",
      "    else:\n",
      "        print(name,\"doesn't exist\")\n",
      "#edit_contact        \n",
      "def search_contact(name):\n",
      "    if name in contacts:\n",
      "        print(\"Your contact\\n\")\n",
      "        print(name,contacts[name],sep=\":\")\n",
      "    else:\n",
      "        print(name,\"doesn't exist\")\n",
      "        \n",
      "# search_contact()\n",
      "def delete_contact(name):\n",
      "    if name not in contacts:\n",
      "        print(name,\"doesn't exist\")\n",
      "    else:\n",
      "        print(contacts.pop(name))\n"
     ]
    }
   ],
   "source": [
    "cn=open(\"contacts.py\",'r')\n",
    "print(cn.read())"
   ]
  },
  {
   "cell_type": "markdown",
   "metadata": {},
   "source": [
    "##### modules and packages\n",
    "- libraries/packages/modules \n",
    "- collection of statements :functions\n",
    "- group of functions:module\n",
    "- group of modules:package"
   ]
  },
  {
   "cell_type": "markdown",
   "metadata": {},
   "source": [
    "#### math and random module"
   ]
  },
  {
   "cell_type": "code",
   "execution_count": 62,
   "metadata": {},
   "outputs": [],
   "source": [
    "import math\n",
    "import random"
   ]
  },
  {
   "cell_type": "code",
   "execution_count": 63,
   "metadata": {},
   "outputs": [],
   "source": [
    "import math as m\n",
    "import random as rm"
   ]
  },
  {
   "cell_type": "code",
   "execution_count": 64,
   "metadata": {
    "collapsed": true
   },
   "outputs": [
    {
     "data": {
      "text/plain": [
       "['__doc__',\n",
       " '__loader__',\n",
       " '__name__',\n",
       " '__package__',\n",
       " '__spec__',\n",
       " 'acos',\n",
       " 'acosh',\n",
       " 'asin',\n",
       " 'asinh',\n",
       " 'atan',\n",
       " 'atan2',\n",
       " 'atanh',\n",
       " 'ceil',\n",
       " 'copysign',\n",
       " 'cos',\n",
       " 'cosh',\n",
       " 'degrees',\n",
       " 'e',\n",
       " 'erf',\n",
       " 'erfc',\n",
       " 'exp',\n",
       " 'expm1',\n",
       " 'fabs',\n",
       " 'factorial',\n",
       " 'floor',\n",
       " 'fmod',\n",
       " 'frexp',\n",
       " 'fsum',\n",
       " 'gamma',\n",
       " 'gcd',\n",
       " 'hypot',\n",
       " 'inf',\n",
       " 'isclose',\n",
       " 'isfinite',\n",
       " 'isinf',\n",
       " 'isnan',\n",
       " 'ldexp',\n",
       " 'lgamma',\n",
       " 'log',\n",
       " 'log10',\n",
       " 'log1p',\n",
       " 'log2',\n",
       " 'modf',\n",
       " 'nan',\n",
       " 'pi',\n",
       " 'pow',\n",
       " 'radians',\n",
       " 'remainder',\n",
       " 'sin',\n",
       " 'sinh',\n",
       " 'sqrt',\n",
       " 'tan',\n",
       " 'tanh',\n",
       " 'tau',\n",
       " 'trunc']"
      ]
     },
     "execution_count": 64,
     "metadata": {},
     "output_type": "execute_result"
    }
   ],
   "source": [
    "dir(m)"
   ]
  },
  {
   "cell_type": "code",
   "execution_count": 65,
   "metadata": {
    "collapsed": true
   },
   "outputs": [
    {
     "name": "stdout",
     "output_type": "stream",
     "text": [
      "Help on built-in function factorial in module math:\n",
      "\n",
      "factorial(x, /)\n",
      "    Find x!.\n",
      "    \n",
      "    Raise a ValueError if x is negative or non-integral.\n",
      "\n"
     ]
    }
   ],
   "source": [
    "help(m.factorial) # documentation"
   ]
  },
  {
   "cell_type": "code",
   "execution_count": 67,
   "metadata": {},
   "outputs": [
    {
     "name": "stdout",
     "output_type": "stream",
     "text": [
      "120\n"
     ]
    }
   ],
   "source": [
    "print(m.factorial(5))"
   ]
  },
  {
   "cell_type": "code",
   "execution_count": 68,
   "metadata": {
    "collapsed": true
   },
   "outputs": [
    {
     "name": "stdout",
     "output_type": "stream",
     "text": [
      "Help on built-in function pow in module math:\n",
      "\n",
      "pow(x, y, /)\n",
      "    Return x**y (x to the power of y).\n",
      "\n"
     ]
    }
   ],
   "source": [
    "help(m.pow)"
   ]
  },
  {
   "cell_type": "code",
   "execution_count": 70,
   "metadata": {},
   "outputs": [
    {
     "data": {
      "text/plain": [
       "64"
      ]
     },
     "execution_count": 70,
     "metadata": {},
     "output_type": "execute_result"
    }
   ],
   "source": [
    "int(m.pow(4,3))"
   ]
  },
  {
   "cell_type": "code",
   "execution_count": 72,
   "metadata": {},
   "outputs": [
    {
     "data": {
      "text/plain": [
       "64.0"
      ]
     },
     "execution_count": 72,
     "metadata": {},
     "output_type": "execute_result"
    }
   ],
   "source": [
    "m.pow(4,3)"
   ]
  },
  {
   "cell_type": "code",
   "execution_count": 73,
   "metadata": {
    "collapsed": true
   },
   "outputs": [
    {
     "name": "stdout",
     "output_type": "stream",
     "text": [
      "Help on built-in function gcd in module math:\n",
      "\n",
      "gcd(x, y, /)\n",
      "    greatest common divisor of x and y\n",
      "\n"
     ]
    }
   ],
   "source": [
    "help(m.gcd)"
   ]
  },
  {
   "cell_type": "code",
   "execution_count": 79,
   "metadata": {},
   "outputs": [
    {
     "data": {
      "text/plain": [
       "1"
      ]
     },
     "execution_count": 79,
     "metadata": {},
     "output_type": "execute_result"
    }
   ],
   "source": [
    "m.gcd(20,3)"
   ]
  },
  {
   "cell_type": "code",
   "execution_count": 80,
   "metadata": {},
   "outputs": [
    {
     "data": {
      "text/plain": [
       "7"
      ]
     },
     "execution_count": 80,
     "metadata": {},
     "output_type": "execute_result"
    }
   ],
   "source": [
    "m.gcd(35,28)"
   ]
  },
  {
   "cell_type": "code",
   "execution_count": 83,
   "metadata": {},
   "outputs": [],
   "source": [
    "import contacts as cts\n",
    "import functions as fts"
   ]
  },
  {
   "cell_type": "code",
   "execution_count": 82,
   "metadata": {
    "collapsed": true
   },
   "outputs": [
    {
     "data": {
      "text/plain": [
       "['__builtins__',\n",
       " '__cached__',\n",
       " '__doc__',\n",
       " '__file__',\n",
       " '__loader__',\n",
       " '__name__',\n",
       " '__package__',\n",
       " '__spec__',\n",
       " 'add_contact',\n",
       " 'contacts',\n",
       " 'delete_contact',\n",
       " 'display_contacts',\n",
       " 'edit_contact',\n",
       " 'search_contact']"
      ]
     },
     "execution_count": 82,
     "metadata": {},
     "output_type": "execute_result"
    }
   ],
   "source": [
    "dir(cts)"
   ]
  },
  {
   "cell_type": "code",
   "execution_count": 84,
   "metadata": {
    "collapsed": true
   },
   "outputs": [
    {
     "data": {
      "text/plain": [
       "['__builtins__',\n",
       " '__cached__',\n",
       " '__doc__',\n",
       " '__file__',\n",
       " '__loader__',\n",
       " '__name__',\n",
       " '__package__',\n",
       " '__spec__',\n",
       " 'is_even',\n",
       " 'is_palindrome',\n",
       " 'is_perfect',\n",
       " 'perfect_range']"
      ]
     },
     "execution_count": 84,
     "metadata": {},
     "output_type": "execute_result"
    }
   ],
   "source": [
    "dir(fts)"
   ]
  },
  {
   "cell_type": "code",
   "execution_count": 85,
   "metadata": {
    "collapsed": true
   },
   "outputs": [
    {
     "name": "stdout",
     "output_type": "stream",
     "text": [
      "Help on function is_palindrome in module functions:\n",
      "\n",
      "is_palindrome(st)\n",
      "\n"
     ]
    }
   ],
   "source": [
    "help(fts.is_palindrome)"
   ]
  },
  {
   "cell_type": "code",
   "execution_count": 86,
   "metadata": {},
   "outputs": [
    {
     "data": {
      "text/plain": [
       "True"
      ]
     },
     "execution_count": 86,
     "metadata": {},
     "output_type": "execute_result"
    }
   ],
   "source": [
    "fts.is_palindrome(\"madam\")"
   ]
  },
  {
   "cell_type": "code",
   "execution_count": 87,
   "metadata": {},
   "outputs": [
    {
     "data": {
      "text/plain": [
       "True"
      ]
     },
     "execution_count": 87,
     "metadata": {},
     "output_type": "execute_result"
    }
   ],
   "source": [
    "fts.is_palindrome(\"121\")"
   ]
  },
  {
   "cell_type": "code",
   "execution_count": 88,
   "metadata": {},
   "outputs": [
    {
     "data": {
      "text/plain": [
       "False"
      ]
     },
     "execution_count": 88,
     "metadata": {},
     "output_type": "execute_result"
    }
   ],
   "source": [
    "fts.is_palindrome(\"college\")"
   ]
  },
  {
   "cell_type": "code",
   "execution_count": 89,
   "metadata": {},
   "outputs": [
    {
     "data": {
      "text/plain": [
       "True"
      ]
     },
     "execution_count": 89,
     "metadata": {},
     "output_type": "execute_result"
    }
   ],
   "source": [
    "fts.is_perfect(6)"
   ]
  },
  {
   "cell_type": "code",
   "execution_count": 90,
   "metadata": {
    "collapsed": true
   },
   "outputs": [
    {
     "name": "stdout",
     "output_type": "stream",
     "text": [
      "6 28 496 "
     ]
    }
   ],
   "source": [
    "#1+2+3=6\n",
    "fts.perfect_range(1,1000)"
   ]
  },
  {
   "cell_type": "code",
   "execution_count": 91,
   "metadata": {},
   "outputs": [
    {
     "ename": "SyntaxError",
     "evalue": "invalid syntax (<ipython-input-91-e7de886f457a>, line 1)",
     "output_type": "error",
     "traceback": [
      "\u001b[1;36m  File \u001b[1;32m\"<ipython-input-91-e7de886f457a>\"\u001b[1;36m, line \u001b[1;32m1\u001b[0m\n\u001b[1;33m    28:1 2 4 7 14\u001b[0m\n\u001b[1;37m         ^\u001b[0m\n\u001b[1;31mSyntaxError\u001b[0m\u001b[1;31m:\u001b[0m invalid syntax\n"
     ]
    }
   ],
   "source": [
    "28:1 2 4 7 14 \n",
    "    "
   ]
  },
  {
   "cell_type": "code",
   "execution_count": null,
   "metadata": {},
   "outputs": [],
   "source": [
    "import re"
   ]
  }
 ],
 "metadata": {
  "kernelspec": {
   "display_name": "Python 3",
   "language": "python",
   "name": "python3"
  },
  "language_info": {
   "codemirror_mode": {
    "name": "ipython",
    "version": 3
   },
   "file_extension": ".py",
   "mimetype": "text/x-python",
   "name": "python",
   "nbconvert_exporter": "python",
   "pygments_lexer": "ipython3",
   "version": "3.7.0"
  }
 },
 "nbformat": 4,
 "nbformat_minor": 2
}
