{
 "cells": [
  {
   "cell_type": "code",
   "execution_count": 1,
   "metadata": {},
   "outputs": [
    {
     "name": "stdout",
     "output_type": "stream",
     "text": [
      "<class 'int'>\n",
      "12345664\n"
     ]
    }
   ],
   "source": [
    "# int float string complex bool\n",
    "#int\n",
    "# decmal(0-9)\n",
    "#binary(0-1)\n",
    "# octal(0-7)\n",
    "# hexadecaml(0-15)0-9 a-f\n",
    "\n",
    "a=12345664 # type\n",
    "print(type(a))\n",
    "print(a)"
   ]
  },
  {
   "cell_type": "code",
   "execution_count": 2,
   "metadata": {
    "collapsed": true
   },
   "outputs": [
    {
     "name": "stdout",
     "output_type": "stream",
     "text": [
      "<class 'int'>\n",
      "1010101\n"
     ]
    }
   ],
   "source": [
    "a=1010101\n",
    "print(type(a))\n",
    "print(a)\n"
   ]
  },
  {
   "cell_type": "code",
   "execution_count": 3,
   "metadata": {},
   "outputs": [],
   "source": [
    "#oct() convart \n",
    "#bin()\n",
    "#hex()"
   ]
  },
  {
   "cell_type": "code",
   "execution_count": 4,
   "metadata": {
    "collapsed": true
   },
   "outputs": [
    {
     "name": "stdout",
     "output_type": "stream",
     "text": [
      "20\n",
      "0b10100\n"
     ]
    }
   ],
   "source": [
    "a=20\n",
    "print(a)\n",
    "print(bin(a))"
   ]
  },
  {
   "cell_type": "code",
   "execution_count": 5,
   "metadata": {
    "collapsed": true
   },
   "outputs": [
    {
     "name": "stdout",
     "output_type": "stream",
     "text": [
      "<class 'int'>\n",
      "5349\n"
     ]
    }
   ],
   "source": [
    "a=0O12345\n",
    "print(type(a))\n",
    "print(a)"
   ]
  },
  {
   "cell_type": "code",
   "execution_count": 6,
   "metadata": {
    "collapsed": true
   },
   "outputs": [
    {
     "name": "stdout",
     "output_type": "stream",
     "text": [
      "<class 'int'>\n",
      "85\n"
     ]
    }
   ],
   "source": [
    "a=0B1010101\n",
    "print(type(a))\n",
    "print(a)"
   ]
  },
  {
   "cell_type": "code",
   "execution_count": 7,
   "metadata": {},
   "outputs": [
    {
     "name": "stdout",
     "output_type": "stream",
     "text": [
      "<class 'int'>\n",
      "1194718\n"
     ]
    }
   ],
   "source": [
    "a=0x123ade\n",
    "print(type(a))\n",
    "print(a)"
   ]
  },
  {
   "cell_type": "code",
   "execution_count": 8,
   "metadata": {
    "collapsed": true
   },
   "outputs": [
    {
     "name": "stdout",
     "output_type": "stream",
     "text": [
      "<class 'str'>\n",
      "<class 'str'>\n",
      "<class 'str'>\n",
      "string\n",
      "string\n",
      " hai \n",
      "rvr & jc\n"
     ]
    }
   ],
   "source": [
    "# string data type\n",
    "s='string'\n",
    "s1=\"string\"\n",
    "s2=''' hai \n",
    "rvr & jc'''\n",
    "print(type(s))\n",
    "print(type(s1))\n",
    "print(type(s2))\n",
    "print(s)\n",
    "print(s1)\n",
    "print(s2)"
   ]
  },
  {
   "cell_type": "code",
   "execution_count": 9,
   "metadata": {
    "scrolled": false
   },
   "outputs": [
    {
     "name": "stdout",
     "output_type": "stream",
     "text": [
      "<class 'str'>\n"
     ]
    }
   ],
   "source": [
    "s='s'\n",
    "print(type(s))"
   ]
  },
  {
   "cell_type": "code",
   "execution_count": 10,
   "metadata": {
    "collapsed": true
   },
   "outputs": [
    {
     "name": "stdout",
     "output_type": "stream",
     "text": [
      "<class 'int'>\n",
      "1194718\n"
     ]
    }
   ],
   "source": [
    "#float datatype a-z 0-9\n",
    "de=123.456\n",
    "print(type(a))\n",
    "print(a)\n"
   ]
  },
  {
   "cell_type": "code",
   "execution_count": 11,
   "metadata": {
    "collapsed": true
   },
   "outputs": [
    {
     "name": "stdout",
     "output_type": "stream",
     "text": [
      "['False', 'None', 'True', 'and', 'as', 'assert', 'async', 'await', 'break', 'class', 'continue', 'def', 'del', 'elif', 'else', 'except', 'finally', 'for', 'from', 'global', 'if', 'import', 'in', 'is', 'lambda', 'nonlocal', 'not', 'or', 'pass', 'raise', 'return', 'try', 'while', 'with', 'yield']\n"
     ]
    }
   ],
   "source": [
    "import keyword\n",
    "k=keyword.kwlist\n",
    "print(k)"
   ]
  },
  {
   "cell_type": "markdown",
   "metadata": {},
   "source": [
    "# DA Workshop\n",
    "## RVR&JC College\n",
    "### python\n",
    "#### markdown\n",
    "###### Non Cse\n",
    "###### heading6"
   ]
  },
  {
   "cell_type": "markdown",
   "metadata": {},
   "source": [
    "*italic* text in **markdown**<br>\n",
    "**bold** text in *markdown*<br>\n",
    "***bold italic*** text<br>Workshop by APSSDC"
   ]
  },
  {
   "cell_type": "markdown",
   "metadata": {},
   "source": [
    "### Python \n",
    "* General purpose,high level and interpreted language\n",
    "- **General Purpose**\n",
    "    - It used to develop the mbl app'ns,s/w developement,web designing etc\n",
    "- *High level programming language*\n",
    "    - User understanable language\n",
    "- ***Interpreted***\n",
    "    - It gives us the line by line execution\n",
    "- Features\n",
    "    - Easy to learn and simple to code\n",
    "    - Syntax free language\n",
    "    * It is semi-object oriented language\n",
    " \n",
    "- It is the main building block of all current running technologies such as AI,DS,Robotics,IOT,CC etc.."
   ]
  },
  {
   "cell_type": "markdown",
   "metadata": {},
   "source": [
    "#### links in markdown\n",
    "-[google](www.google.com)"
   ]
  },
  {
   "cell_type": "markdown",
   "metadata": {},
   "source": [
    "#### Errors in Python\n",
    "- An invalid statement\n",
    "- 3 Types of Errors\n",
    "    - Syntax Error\n",
    "        - Error related to syntax\n",
    "    - Value Error\n",
    "        - trpe error,file not found error and value error etc..\n",
    "    - Indentation Error\n",
    "        - Error related to space"
   ]
  },
  {
   "cell_type": "code",
   "execution_count": 13,
   "metadata": {},
   "outputs": [
    {
     "name": "stdout",
     "output_type": "stream",
     "text": [
      "python\n"
     ]
    }
   ],
   "source": [
    "print(\"python\")"
   ]
  },
  {
   "cell_type": "code",
   "execution_count": 14,
   "metadata": {},
   "outputs": [
    {
     "data": {
      "text/plain": [
       "19"
      ]
     },
     "execution_count": 14,
     "metadata": {},
     "output_type": "execute_result"
    }
   ],
   "source": [
    "9+10"
   ]
  },
  {
   "cell_type": "code",
   "execution_count": 15,
   "metadata": {},
   "outputs": [
    {
     "name": "stdout",
     "output_type": "stream",
     "text": [
      "Welcome to Python\n"
     ]
    }
   ],
   "source": [
    "print(\"Welcome to Python\") # both types of quotes "
   ]
  },
  {
   "cell_type": "code",
   "execution_count": 16,
   "metadata": {},
   "outputs": [
    {
     "name": "stdout",
     "output_type": "stream",
     "text": [
      "welcome to python\n"
     ]
    }
   ],
   "source": [
    "print('welcome to python')"
   ]
  },
  {
   "cell_type": "code",
   "execution_count": 17,
   "metadata": {
    "collapsed": true
   },
   "outputs": [
    {
     "ename": "SyntaxError",
     "evalue": "EOL while scanning string literal (<ipython-input-17-cc2de4ec9dc5>, line 1)",
     "output_type": "error",
     "traceback": [
      "\u001b[1;36m  File \u001b[1;32m\"<ipython-input-17-cc2de4ec9dc5>\"\u001b[1;36m, line \u001b[1;32m1\u001b[0m\n\u001b[1;33m    print(\"started with double and ended with single')\u001b[0m\n\u001b[1;37m                                                      ^\u001b[0m\n\u001b[1;31mSyntaxError\u001b[0m\u001b[1;31m:\u001b[0m EOL while scanning string literal\n"
     ]
    }
   ],
   "source": [
    "print(\"started with double and ended with single')"
   ]
  },
  {
   "cell_type": "code",
   "execution_count": 18,
   "metadata": {},
   "outputs": [
    {
     "name": "stdout",
     "output_type": "stream",
     "text": [
      "I am from 'APSSDC'\n"
     ]
    }
   ],
   "source": [
    "print(\"I am from 'APSSDC'\")"
   ]
  },
  {
   "cell_type": "code",
   "execution_count": 19,
   "metadata": {
    "collapsed": true
   },
   "outputs": [
    {
     "ename": "TypeError",
     "evalue": "unsupported operand type(s) for +: 'int' and 'str'",
     "output_type": "error",
     "traceback": [
      "\u001b[1;31m---------------------------------------------------------------------------\u001b[0m",
      "\u001b[1;31mTypeError\u001b[0m                                 Traceback (most recent call last)",
      "\u001b[1;32m<ipython-input-19-a72fd41d136d>\u001b[0m in \u001b[0;36m<module>\u001b[1;34m()\u001b[0m\n\u001b[0;32m      1\u001b[0m \u001b[1;31m# FIRST NAME FROM YOUR LAST NAME\u001b[0m\u001b[1;33m\u001b[0m\u001b[1;33m\u001b[0m\u001b[0m\n\u001b[1;32m----> 2\u001b[1;33m \u001b[1;36m9\u001b[0m\u001b[1;33m+\u001b[0m\u001b[1;34m\"rvr&jc\"\u001b[0m\u001b[1;33m\u001b[0m\u001b[0m\n\u001b[0m",
      "\u001b[1;31mTypeError\u001b[0m: unsupported operand type(s) for +: 'int' and 'str'"
     ]
    }
   ],
   "source": [
    "# FIRST NAME FROM YOUR LAST NAME\n",
    "9+\"rvr&jc\""
   ]
  },
  {
   "cell_type": "code",
   "execution_count": 20,
   "metadata": {},
   "outputs": [
    {
     "data": {
      "text/plain": [
       "'fisrtlast'"
      ]
     },
     "execution_count": 20,
     "metadata": {},
     "output_type": "execute_result"
    }
   ],
   "source": [
    "\"fisrt\"+\"last\""
   ]
  },
  {
   "cell_type": "code",
   "execution_count": 21,
   "metadata": {},
   "outputs": [
    {
     "name": "stdout",
     "output_type": "stream",
     "text": [
      "RVR&JC\n",
      "clghjdykerkjhk\n"
     ]
    }
   ],
   "source": [
    "clg=\"RVR&JC\"\n",
    "print(clg) # data/var\n",
    "print(\"clghjdykerkjhk\") # message/text"
   ]
  },
  {
   "cell_type": "code",
   "execution_count": 22,
   "metadata": {},
   "outputs": [
    {
     "name": "stdout",
     "output_type": "stream",
     "text": [
      "clg\n"
     ]
    }
   ],
   "source": [
    "print(\"clg\")"
   ]
  },
  {
   "cell_type": "markdown",
   "metadata": {},
   "source": [
    "### Operators in Python\n",
    "- anything that performs the op'n b/w 2 operands\n",
    "- Ex:a+b:+ is the op'r performing addition op'n\n",
    "    - on a&b\n",
    "- Arithmetic Operators\n",
    "    * +,-,*,/,//,%,** (power)\n",
    "- Assignment\n",
    "    - =,+=,-=,*=,/=,\n",
    "- Boolean \n",
    "    - False/True\n",
    "- Comparisional\n",
    "    - <,<=, >,>=,==\n",
    "- Logical \n",
    "    - and,or\n",
    "- Identity \n",
    "    - is,is not\n",
    "- Membership\n",
    "    - in,not in\n",
    "- Operators used in print() \n",
    "    - sep,end"
   ]
  },
  {
   "cell_type": "code",
   "execution_count": null,
   "metadata": {},
   "outputs": [],
   "source": [
    "# read 2 numbers from user and perform all the arithmetic op'ns on them\n",
    "x,y=int(input()),int(input())\n",
    "print(\"sum=\",x+y)\n",
    "print(\"difference=\",x-y)\n",
    "print(\"product=\",x*y)\n",
    "print(\"quotient=\",x/y)\n",
    "print(\"remainder=\",x%y)\n",
    "print(\"power=\",x**y)"
   ]
  },
  {
   "cell_type": "code",
   "execution_count": null,
   "metadata": {},
   "outputs": [],
   "source": [
    "x>y #"
   ]
  },
  {
   "cell_type": "code",
   "execution_count": null,
   "metadata": {},
   "outputs": [],
   "source": [
    "x is y # english "
   ]
  },
  {
   "cell_type": "code",
   "execution_count": null,
   "metadata": {},
   "outputs": [],
   "source": [
    "x==y # checking equality"
   ]
  },
  {
   "cell_type": "code",
   "execution_count": null,
   "metadata": {},
   "outputs": [],
   "source": [
    "x==y # checking equality"
   ]
  },
  {
   "cell_type": "code",
   "execution_count": null,
   "metadata": {},
   "outputs": [],
   "source": [
    "x is 30"
   ]
  },
  {
   "cell_type": "code",
   "execution_count": null,
   "metadata": {},
   "outputs": [],
   "source": [
    "\"r\" in \"rvr&jc\" # membership"
   ]
  },
  {
   "cell_type": "code",
   "execution_count": null,
   "metadata": {},
   "outputs": [],
   "source": [
    "\"rj\" not in \"rvr&jc\""
   ]
  },
  {
   "cell_type": "code",
   "execution_count": null,
   "metadata": {},
   "outputs": [],
   "source": [
    "some=int(input(\"Enter any value:\")) # 45\n",
    "some+=10 # inc 55\n",
    "some-=5 # 50\n",
    "some*=4 # 200\n",
    "val=60\n",
    "some+=val # 260\n",
    "print(some,val,sep=\",\")"
   ]
  },
  {
   "cell_type": "code",
   "execution_count": null,
   "metadata": {},
   "outputs": [],
   "source": [
    "print(f,s,th,sep=\",\") # multiple outputs"
   ]
  },
  {
   "cell_type": "code",
   "execution_count": null,
   "metadata": {},
   "outputs": [],
   "source": [
    "# end operator\n",
    "print() # new line"
   ]
  },
  {
   "cell_type": "code",
   "execution_count": null,
   "metadata": {},
   "outputs": [],
   "source": [
    "print(\"\\n\")"
   ]
  },
  {
   "cell_type": "code",
   "execution_count": null,
   "metadata": {},
   "outputs": [],
   "source": [
    "print(f,s,th,sep=\",\")"
   ]
  },
  {
   "cell_type": "markdown",
   "metadata": {},
   "source": [
    "#### Conditional Statements\n",
    "- We do programming based on some conditions\n",
    "- **if,else,elif**\n",
    "    - syntax\n",
    "        - if condition :\n",
    "            - statements goes here"
   ]
  },
  {
   "cell_type": "code",
   "execution_count": null,
   "metadata": {},
   "outputs": [],
   "source": [
    "# read a number from user and \n",
    "# print yes if it is even\n",
    "# read a character from user and\n",
    "# print \"vowel\" if it is vowel"
   ]
  },
  {
   "cell_type": "code",
   "execution_count": null,
   "metadata": {},
   "outputs": [],
   "source": [
    "num=int(input())\n",
    "if num%2 is 0:\n",
    "    print(\"yes\")"
   ]
  },
  {
   "cell_type": "code",
   "execution_count": null,
   "metadata": {},
   "outputs": [],
   "source": [
    "ch=input()\n",
    "if ch==\"a\" or ch==\"e\" or ch==\"i\" or ch==\"o\" or ch==\"u\":\n",
    "    print(\"vowel\")"
   ]
  },
  {
   "cell_type": "code",
   "execution_count": null,
   "metadata": {},
   "outputs": [],
   "source": [
    "ch=input()\n",
    "vowels=\"aeiouAEIOU\"\n",
    "if ch in vowels:\n",
    "    print(\"vowel\")"
   ]
  },
  {
   "cell_type": "code",
   "execution_count": null,
   "metadata": {},
   "outputs": [],
   "source": [
    "ch=input()\n",
    "vowels=\"aeiouAEIOU\"\n",
    "if ch in vowels:\n",
    "    print(\"vowel\")\n",
    "else:print(\"consonant\")\n",
    "    "
   ]
  },
  {
   "cell_type": "code",
   "execution_count": null,
   "metadata": {},
   "outputs": [],
   "source": [
    "# read a number and \n",
    "# tell whether it is +ve integer or -ve integer\n",
    "n=int(input())\n",
    "if n<0:\n",
    "    print(\"negative interger\")\n",
    "elif n==0:\n",
    "    print(\"zero\")\n",
    "else:\n",
    "    print(\"positive integer\")"
   ]
  },
  {
   "cell_type": "code",
   "execution_count": null,
   "metadata": {},
   "outputs": [],
   "source": [
    "# read 3 numbers from user and print the bigger one\n",
    "g,h,k=int(input()),int(input()),int(input())\n",
    "if g>h and g>k:\n",
    "    print(g)\n",
    "elif h>g and h>k:\n",
    "    print(h)\n",
    "else:print(k)"
   ]
  },
  {
   "cell_type": "code",
   "execution_count": null,
   "metadata": {},
   "outputs": [],
   "source": [
    "# read an year from user and tell us if is leap or not\n",
    "year=int(input())\n",
    "if year%4==0 or (year%400==0 and year%100==0):\n",
    "    print(\"leap\")\n",
    "else:print(\"non leap\")"
   ]
  },
  {
   "cell_type": "markdown",
   "metadata": {},
   "source": [
    "### Looping Statements\n",
    "- Repeatition of statements\n",
    "- **for and while**\n",
    "- for loop\n",
    "    - default incrementation\n",
    "    - **syntax**\n",
    "        - for iterator in iterable:\n",
    "            - statements\n",
    "        - for iterator in range():\n",
    "            - statements"
   ]
  },
  {
   "cell_type": "code",
   "execution_count": null,
   "metadata": {},
   "outputs": [],
   "source": [
    "# to print your name multiple times (10)\n",
    "print(\"ruthu\")\n",
    "print(\"ruthu\")\n",
    "print(\"ruthu\")\n",
    "print(\"ruthu\")\n",
    "print(\"ruthu\")\n",
    "print(\"ruthu\")\n",
    "print(\"ruthu\")\n",
    "print(\"ruthu\")\n",
    "print(\"ruthu\")\n",
    "print(\"ruthu\")"
   ]
  },
  {
   "cell_type": "code",
   "execution_count": null,
   "metadata": {},
   "outputs": [],
   "source": [
    "# to print numbers from 1 to 10\n",
    "# numbers\n",
    "print(1)\n",
    "print(2) # print(10)\n"
   ]
  },
  {
   "cell_type": "code",
   "execution_count": null,
   "metadata": {},
   "outputs": [],
   "source": [
    "for num in range(1,10):\n",
    "    print(num)"
   ]
  },
  {
   "cell_type": "code",
   "execution_count": null,
   "metadata": {},
   "outputs": [],
   "source": [
    "for num in range(1,11):\n",
    "    print(num,end=\" \")"
   ]
  },
  {
   "cell_type": "code",
   "execution_count": null,
   "metadata": {},
   "outputs": [],
   "source": [
    "for num in range(1,10): # exclusive \n",
    "    print(\"rvr&jc\")"
   ]
  },
  {
   "cell_type": "code",
   "execution_count": null,
   "metadata": {},
   "outputs": [],
   "source": [
    "# print the odd no.s present in a given range\n",
    "# 10 to 100:\n",
    "for num in range(11,100,2): # step count\n",
    "    print(num,end=\" \")"
   ]
  },
  {
   "cell_type": "code",
   "execution_count": null,
   "metadata": {},
   "outputs": [],
   "source": [
    "# print the nth multiplication table\n",
    "a=int(input())\n",
    "for num in range(1,11):\n",
    "    b=a*num\n",
    "    print(b)"
   ]
  },
  {
   "cell_type": "code",
   "execution_count": null,
   "metadata": {},
   "outputs": [],
   "source": []
  }
 ],
 "metadata": {
  "kernelspec": {
   "display_name": "Python 3",
   "language": "python",
   "name": "python3"
  },
  "language_info": {
   "codemirror_mode": {
    "name": "ipython",
    "version": 3
   },
   "file_extension": ".py",
   "mimetype": "text/x-python",
   "name": "python",
   "nbconvert_exporter": "python",
   "pygments_lexer": "ipython3",
   "version": "3.7.0"
  }
 },
 "nbformat": 4,
 "nbformat_minor": 2
}
